{
  "nbformat": 4,
  "nbformat_minor": 0,
  "metadata": {
    "colab": {
      "provenance": [],
      "gpuType": "T4"
    },
    "kernelspec": {
      "name": "python3",
      "display_name": "Python 3"
    },
    "language_info": {
      "name": "python"
    },
    "accelerator": "TPU",
    "gpuClass": "standard"
  },
  "cells": [
    {
      "cell_type": "code",
      "source": [
        "import locale\n",
        "def getpreferredencoding(do_setlocale = True):\n",
        "    return \"UTF-8\"\n",
        "locale.getpreferredencoding = getpreferredencoding\n",
        "import warnings\n",
        "warnings.filterwarnings('ignore')"
      ],
      "metadata": {
        "id": "zoh1raQo4zIa"
      },
      "execution_count": null,
      "outputs": []
    },
    {
      "cell_type": "code",
      "source": [
        "from google.colab import files\n",
        "\n",
        "files.upload()"
      ],
      "metadata": {
        "id": "dKHObS452TFi",
        "colab": {
          "base_uri": "https://localhost:8080/",
          "height": 90
        },
        "outputId": "a423c56a-b756-45b1-8f98-ee4fbbcffc3b"
      },
      "execution_count": null,
      "outputs": [
        {
          "output_type": "display_data",
          "data": {
            "text/plain": [
              "<IPython.core.display.HTML object>"
            ],
            "text/html": [
              "\n",
              "     <input type=\"file\" id=\"files-3b9f4715-5f19-487d-80c6-9038582141aa\" name=\"files[]\" multiple disabled\n",
              "        style=\"border:none\" />\n",
              "     <output id=\"result-3b9f4715-5f19-487d-80c6-9038582141aa\">\n",
              "      Upload widget is only available when the cell has been executed in the\n",
              "      current browser session. Please rerun this cell to enable.\n",
              "      </output>\n",
              "      <script>// Copyright 2017 Google LLC\n",
              "//\n",
              "// Licensed under the Apache License, Version 2.0 (the \"License\");\n",
              "// you may not use this file except in compliance with the License.\n",
              "// You may obtain a copy of the License at\n",
              "//\n",
              "//      http://www.apache.org/licenses/LICENSE-2.0\n",
              "//\n",
              "// Unless required by applicable law or agreed to in writing, software\n",
              "// distributed under the License is distributed on an \"AS IS\" BASIS,\n",
              "// WITHOUT WARRANTIES OR CONDITIONS OF ANY KIND, either express or implied.\n",
              "// See the License for the specific language governing permissions and\n",
              "// limitations under the License.\n",
              "\n",
              "/**\n",
              " * @fileoverview Helpers for google.colab Python module.\n",
              " */\n",
              "(function(scope) {\n",
              "function span(text, styleAttributes = {}) {\n",
              "  const element = document.createElement('span');\n",
              "  element.textContent = text;\n",
              "  for (const key of Object.keys(styleAttributes)) {\n",
              "    element.style[key] = styleAttributes[key];\n",
              "  }\n",
              "  return element;\n",
              "}\n",
              "\n",
              "// Max number of bytes which will be uploaded at a time.\n",
              "const MAX_PAYLOAD_SIZE = 100 * 1024;\n",
              "\n",
              "function _uploadFiles(inputId, outputId) {\n",
              "  const steps = uploadFilesStep(inputId, outputId);\n",
              "  const outputElement = document.getElementById(outputId);\n",
              "  // Cache steps on the outputElement to make it available for the next call\n",
              "  // to uploadFilesContinue from Python.\n",
              "  outputElement.steps = steps;\n",
              "\n",
              "  return _uploadFilesContinue(outputId);\n",
              "}\n",
              "\n",
              "// This is roughly an async generator (not supported in the browser yet),\n",
              "// where there are multiple asynchronous steps and the Python side is going\n",
              "// to poll for completion of each step.\n",
              "// This uses a Promise to block the python side on completion of each step,\n",
              "// then passes the result of the previous step as the input to the next step.\n",
              "function _uploadFilesContinue(outputId) {\n",
              "  const outputElement = document.getElementById(outputId);\n",
              "  const steps = outputElement.steps;\n",
              "\n",
              "  const next = steps.next(outputElement.lastPromiseValue);\n",
              "  return Promise.resolve(next.value.promise).then((value) => {\n",
              "    // Cache the last promise value to make it available to the next\n",
              "    // step of the generator.\n",
              "    outputElement.lastPromiseValue = value;\n",
              "    return next.value.response;\n",
              "  });\n",
              "}\n",
              "\n",
              "/**\n",
              " * Generator function which is called between each async step of the upload\n",
              " * process.\n",
              " * @param {string} inputId Element ID of the input file picker element.\n",
              " * @param {string} outputId Element ID of the output display.\n",
              " * @return {!Iterable<!Object>} Iterable of next steps.\n",
              " */\n",
              "function* uploadFilesStep(inputId, outputId) {\n",
              "  const inputElement = document.getElementById(inputId);\n",
              "  inputElement.disabled = false;\n",
              "\n",
              "  const outputElement = document.getElementById(outputId);\n",
              "  outputElement.innerHTML = '';\n",
              "\n",
              "  const pickedPromise = new Promise((resolve) => {\n",
              "    inputElement.addEventListener('change', (e) => {\n",
              "      resolve(e.target.files);\n",
              "    });\n",
              "  });\n",
              "\n",
              "  const cancel = document.createElement('button');\n",
              "  inputElement.parentElement.appendChild(cancel);\n",
              "  cancel.textContent = 'Cancel upload';\n",
              "  const cancelPromise = new Promise((resolve) => {\n",
              "    cancel.onclick = () => {\n",
              "      resolve(null);\n",
              "    };\n",
              "  });\n",
              "\n",
              "  // Wait for the user to pick the files.\n",
              "  const files = yield {\n",
              "    promise: Promise.race([pickedPromise, cancelPromise]),\n",
              "    response: {\n",
              "      action: 'starting',\n",
              "    }\n",
              "  };\n",
              "\n",
              "  cancel.remove();\n",
              "\n",
              "  // Disable the input element since further picks are not allowed.\n",
              "  inputElement.disabled = true;\n",
              "\n",
              "  if (!files) {\n",
              "    return {\n",
              "      response: {\n",
              "        action: 'complete',\n",
              "      }\n",
              "    };\n",
              "  }\n",
              "\n",
              "  for (const file of files) {\n",
              "    const li = document.createElement('li');\n",
              "    li.append(span(file.name, {fontWeight: 'bold'}));\n",
              "    li.append(span(\n",
              "        `(${file.type || 'n/a'}) - ${file.size} bytes, ` +\n",
              "        `last modified: ${\n",
              "            file.lastModifiedDate ? file.lastModifiedDate.toLocaleDateString() :\n",
              "                                    'n/a'} - `));\n",
              "    const percent = span('0% done');\n",
              "    li.appendChild(percent);\n",
              "\n",
              "    outputElement.appendChild(li);\n",
              "\n",
              "    const fileDataPromise = new Promise((resolve) => {\n",
              "      const reader = new FileReader();\n",
              "      reader.onload = (e) => {\n",
              "        resolve(e.target.result);\n",
              "      };\n",
              "      reader.readAsArrayBuffer(file);\n",
              "    });\n",
              "    // Wait for the data to be ready.\n",
              "    let fileData = yield {\n",
              "      promise: fileDataPromise,\n",
              "      response: {\n",
              "        action: 'continue',\n",
              "      }\n",
              "    };\n",
              "\n",
              "    // Use a chunked sending to avoid message size limits. See b/62115660.\n",
              "    let position = 0;\n",
              "    do {\n",
              "      const length = Math.min(fileData.byteLength - position, MAX_PAYLOAD_SIZE);\n",
              "      const chunk = new Uint8Array(fileData, position, length);\n",
              "      position += length;\n",
              "\n",
              "      const base64 = btoa(String.fromCharCode.apply(null, chunk));\n",
              "      yield {\n",
              "        response: {\n",
              "          action: 'append',\n",
              "          file: file.name,\n",
              "          data: base64,\n",
              "        },\n",
              "      };\n",
              "\n",
              "      let percentDone = fileData.byteLength === 0 ?\n",
              "          100 :\n",
              "          Math.round((position / fileData.byteLength) * 100);\n",
              "      percent.textContent = `${percentDone}% done`;\n",
              "\n",
              "    } while (position < fileData.byteLength);\n",
              "  }\n",
              "\n",
              "  // All done.\n",
              "  yield {\n",
              "    response: {\n",
              "      action: 'complete',\n",
              "    }\n",
              "  };\n",
              "}\n",
              "\n",
              "scope.google = scope.google || {};\n",
              "scope.google.colab = scope.google.colab || {};\n",
              "scope.google.colab._files = {\n",
              "  _uploadFiles,\n",
              "  _uploadFilesContinue,\n",
              "};\n",
              "})(self);\n",
              "</script> "
            ]
          },
          "metadata": {}
        },
        {
          "output_type": "stream",
          "name": "stdout",
          "text": [
            "Saving kaggle.json to kaggle (1).json\n"
          ]
        },
        {
          "output_type": "execute_result",
          "data": {
            "text/plain": [
              "{'kaggle.json': b'{\"username\":\"mostafaessaa\",\"key\":\"216f07e46f5cb98940523b5edc0b0ec2\"}'}"
            ]
          },
          "metadata": {},
          "execution_count": 2
        }
      ]
    },
    {
      "cell_type": "code",
      "source": [
        "! mkdir ~/.kaggle\n",
        "\n",
        "! cp kaggle.json ~/.kaggle/\n",
        "\n",
        "!kaggle datasets download -d snehaanbhawal/resume-dataset\n",
        "\n",
        "!unzip /content/resume-dataset.zip\n"
      ],
      "metadata": {
        "id": "SIgZwB744jh4"
      },
      "execution_count": null,
      "outputs": []
    },
    {
      "cell_type": "code",
      "source": [
        "!pip install skillNer\n",
        "\n",
        "!python -m spacy download en_core_web_lg\n",
        "\n",
        "!pip install PyPDF2\n",
        "\n",
        "!pip install tqdm"
      ],
      "metadata": {
        "id": "Gim9s8Br9zTw"
      },
      "execution_count": null,
      "outputs": []
    },
    {
      "cell_type": "code",
      "source": [
        "import spacy\n",
        "from spacy.matcher import PhraseMatcher\n",
        "from skillNer.general_params import SKILL_DB\n",
        "from skillNer.skill_extractor_class import SkillExtractor\n",
        "import pandas as pd \n",
        "from PyPDF2 import PdfReader\n",
        "import re\n",
        "from tqdm import tqdm\n",
        "import os \n",
        "from sklearn.metrics.pairwise import cosine_similarity\n",
        "from sklearn.feature_extraction.text import TfidfVectorizer\n",
        "import numpy as np\n",
        "\n",
        "nlp = spacy.load(\"en_core_web_lg\")\n",
        "skill_extractor = SkillExtractor(nlp, SKILL_DB, PhraseMatcher)"
      ],
      "metadata": {
        "id": "0nH8EMhJZ5PS"
      },
      "execution_count": null,
      "outputs": []
    },
    {
      "cell_type": "code",
      "source": [
        "#function to prase text\n",
        "def prase(text):\n",
        "  annotations = skill_extractor.annotate(text)\n",
        "  skills = []\n",
        "  for i in range(len(annotations['results']['ngram_scored'])):\n",
        "    skills.append(annotations['results']['ngram_scored'][i]['doc_node_value'])\n",
        "  for i in range(len(annotations['results']['full_matches'])):\n",
        "    skills.append(annotations['results']['full_matches'][i]['doc_node_value'])\n",
        "    return list(set(skills))"
      ],
      "metadata": {
        "id": "5IDBA6v9AHgm"
      },
      "execution_count": null,
      "outputs": []
    },
    {
      "cell_type": "code",
      "source": [
        "#function to convert pdf-file to text\n",
        "def p2t(x):\n",
        "  parts=[]\n",
        "  text=''\n",
        "  reader = PdfReader(x)\n",
        "  for i in range(len(reader.pages)):\n",
        "    page = reader.pages[i]\n",
        "    parts.append(page.extract_text())\n",
        "  text = ' '.join(parts)\n",
        "  return text"
      ],
      "metadata": {
        "id": "5moaRhU76QSx"
      },
      "execution_count": null,
      "outputs": []
    },
    {
      "cell_type": "code",
      "source": [
        "#function to clean text\n",
        "def cleanText(Text):\n",
        "    Text = re.sub('IDs','0',Text)\n",
        "    Text = re.sub(r'[0-9]+', '', Text)\n",
        "    Text = Text.split()\n",
        "    rx = re.compile(r'\\D*\\d')\n",
        "    Text = [x for x in Text if not rx.match(x)]\n",
        "    Text = [x.lstrip() for x in Text]\n",
        "    Text = ' '.join(Text)\n",
        "    Text = re.sub(r'[^\\x00-\\x7F]+','0',Text)\n",
        "    Text = re.sub(r'[\\W_]', ' ', Text)\n",
        "    Text = re.sub(r'(?<=\\d) (?=\\d)', '', Text)\n",
        "    Text = re.sub('http\\S+\\s*', ' ', Text)  # remove URLs\n",
        "    Text = re.sub('RT|cc', ' ', Text)  # remove RT and cc\n",
        "    Text = re.sub('#\\S+', '', Text)  # remove hashtags\n",
        "    Text = re.sub('@\\S+', '  ', Text)  # remove mentions\n",
        "    Text = re.sub('[%s]' % re.escape(\"\"\"!\"#$%&'()*+,-./:;<=>?@[\\]^_`{|}~\"\"\"), ' ', Text)  # remove punctuations\n",
        "    Text = re.sub('\\s+', ' ', Text)  # remove extra whitespace\n",
        "    return Text"
      ],
      "metadata": {
        "id": "KpisSviK80-W"
      },
      "execution_count": null,
      "outputs": []
    },
    {
      "cell_type": "code",
      "source": [
        "# funtion to turn pdf files to csv which will have column Skills\n",
        "def pdf2csv(path):\n",
        "  ser = []\n",
        "  id = []\n",
        "  x = os.listdir(path)\n",
        "  for filen in tqdm(x):\n",
        "    if filen.split('.')[1] == 'pdf':\n",
        "      print(filen)\n",
        "      m = os.path.join(path,filen)\n",
        "      data = prase(cleanText(p2t(m)))\n",
        "      ser.append(data)\n",
        "      id.append(filen)\n",
        "    else:\n",
        "      pass\n",
        "  for i in range(len(ser)):\n",
        "    ser[i] = ' '.join(ser[i])\n",
        "  data = pd.DataFrame(ser)\n",
        "  data['Csv_id'] = id\n",
        "  return data"
      ],
      "metadata": {
        "id": "37S9iioj5S5d"
      },
      "execution_count": null,
      "outputs": []
    },
    {
      "cell_type": "code",
      "source": [
        "#still under construction\n",
        "def fast_pdf_depend(filen):\n",
        "    if filen.split('.')[1] == 'pdf':\n",
        "      print(filen)\n",
        "      m = os.path.join(path,filen)\n",
        "      data = prase(cleanText(p2t(m)))\n",
        "    else:\n",
        "      pass\n",
        "    return data,filen"
      ],
      "metadata": {
        "id": "uYw8pHFtX7uX"
      },
      "execution_count": null,
      "outputs": []
    },
    {
      "cell_type": "code",
      "source": [
        "#still under construction\n",
        "def Fast_pdf2csv(path,o=10):\n",
        "  ser = []\n",
        "  id = []\n",
        "  pool = Pool(processes=o)\n",
        "  g = os.listdir(path)\n",
        "  k=pool.map_async(fast_pdf_depend,g)\n",
        "  ser.append(k)\n",
        "  if k.ready():\n",
        "    if k.succesful():\n",
        "      print('succesful')\n",
        "    else:\n",
        "     print('unsuccesful') \n",
        "  return ser"
      ],
      "metadata": {
        "id": "v7dki2BkTtbi"
      },
      "execution_count": null,
      "outputs": []
    },
    {
      "cell_type": "code",
      "source": [
        "#function to match text with data takes data['column'] as input\n",
        "def dmatch(text,data):\n",
        "  input = cleanText(text)\n",
        "  input_skills = prase(text)\n",
        "  input_skills = ' '.join(input_skills)\n",
        "  vectorizer = TfidfVectorizer()\n",
        "  vec1 = vectorizer.fit_transform(data)\n",
        "  vec2 = vectorizer.transform([input_skills])\n",
        "  sim_matrix1=[]\n",
        "  for i in range(vec1.shape[0]):\n",
        "    similarity = cosine_similarity(vec2.toarray(),vec1[i].toarray())\n",
        "    sim_matrix1.append(similarity)\n",
        "  data['match'] = np.round(np.ravel(sim_matrix1)*100)\n",
        "  data.sort_values('match',ascending=False,inplace=True)\n",
        "  return data"
      ],
      "metadata": {
        "id": "aiJWhlB8_iFo"
      },
      "execution_count": null,
      "outputs": []
    },
    {
      "cell_type": "code",
      "source": [
        "#function to prase csv file which has resume as str takes path of .csv file and column of data which has str data\n",
        "def csvprase(path,column):\n",
        "  data = pd.read_csv(path)\n",
        "  data['index1'] = data.index\n",
        "  data['skills'] = data.column.apply(cleanText)\n",
        "  data['skills'] = data['skills'].apply(prase)\n",
        "  return data"
      ],
      "metadata": {
        "id": "tsrIW5gDdhuo"
      },
      "execution_count": null,
      "outputs": []
    },
    {
      "cell_type": "code",
      "source": [
        "from multiprocessing import Pool"
      ],
      "metadata": {
        "id": "gfaTzitESj6W"
      },
      "execution_count": null,
      "outputs": []
    },
    {
      "cell_type": "code",
      "source": [
        "\n",
        "path = '/content/cvs'\n",
        "data = Fast_pdf2csv(path)"
      ],
      "metadata": {
        "id": "YzZI7GZ7E2Fs"
      },
      "execution_count": null,
      "outputs": []
    },
    {
      "cell_type": "code",
      "source": [
        "data.get()"
      ],
      "metadata": {
        "id": "Of9Gy3cAeCEV"
      },
      "execution_count": null,
      "outputs": []
    },
    {
      "cell_type": "code",
      "source": [
        "text = '''Job Details\n",
        "Experience Needed:\n",
        "0 To 2 Years\n",
        "Career Level:\n",
        "Entry Level (Junior Level / Fresh Grad)\n",
        "Education Level:\n",
        "Bachelor's Degree\n",
        "Salary:\n",
        "Confidential\n",
        "Job Categories:\n",
        "Engineering - Mechanical/Electrical\n",
        "Skills And Tools:\n",
        "Electrical Engineer\n",
        "Electrical Engineering\n",
        "Job Description\n",
        "Providing assistance to ensure all electrical and instrumentation engineering project work complies with statutory and regulatory requirements and company policies and practices;\n",
        "Providing assistance to ensure all electrical and instrumentation engineering project work is completed on time and within budget;\n",
        "Assisting with the preparation of preliminary and detailed designs of electrical and instrumentation engineering projects;\n",
        "Assisting with the preparation of documentation for standards, procedures, safe working practices and monitoring regimes in respect of work on or around electrical and instrumentation engineering projects;\n",
        "Assisting with the preparation of maintenance planning for all electrical and instrumentation engineering projects; and\n",
        "Liaison with other department engineers and draftspersons to ensure electrical and instrumentation project goals are met.'''"
      ],
      "metadata": {
        "id": "KumveXyTHduQ"
      },
      "execution_count": null,
      "outputs": []
    },
    {
      "cell_type": "code",
      "source": [
        "data = dmatch(text,data)"
      ],
      "metadata": {
        "id": "99dAKNGGHkyg"
      },
      "execution_count": null,
      "outputs": []
    },
    {
      "cell_type": "code",
      "source": [
        "\n"
      ],
      "metadata": {
        "id": "oKSC6ecQHv60"
      },
      "execution_count": null,
      "outputs": []
    }
  ]
}